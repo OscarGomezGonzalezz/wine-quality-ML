{
 "cells": [
  {
   "cell_type": "code",
   "execution_count": 1,
   "id": "c6fd5366",
   "metadata": {},
   "outputs": [],
   "source": [
    "from tensorflow.keras.models import Sequential\n",
    "from tensorflow.keras.layers import Dense\n",
    "from sklearn.model_selection import train_test_split\n",
    "from sklearn.preprocessing import StandardScaler\n",
    "from sklearn.metrics import classification_report, confusion_matrix\n",
    "import pandas as pd\n",
    "import numpy as np\n",
    "\n",
    "def classify_wine_quality(df):\n",
    "    # Convert quality to binary class: 1 = good (>=7), 0 = bad (<7)\n",
    "    df['quality'] = df['quality'].apply(lambda q: 1 if q >= 7 else 0)\n",
    "\n",
    "    X = df.drop('quality', axis=1)\n",
    "    y = df['quality']\n",
    "\n",
    "    # Split\n",
    "    X_train, X_test, y_train, y_test = train_test_split(X, y, test_size=0.2, random_state=42)\n",
    "\n",
    "    # Normalize\n",
    "    scaler = StandardScaler()\n",
    "    X_train = scaler.fit_transform(X_train)\n",
    "    X_test = scaler.transform(X_test)\n",
    "\n",
    "    # Model\n",
    "    model = Sequential([\n",
    "        Dense(64, activation='relu', input_shape=(X_train.shape[1],)),\n",
    "        Dense(32, activation='relu'),\n",
    "        Dense(1, activation='sigmoid')  # sigmoid for binary output\n",
    "    ])\n",
    "\n",
    "    model.compile(\n",
    "        optimizer='adam',\n",
    "        loss='binary_crossentropy',\n",
    "        metrics=['accuracy']\n",
    "    )\n",
    "\n",
    "    # Train\n",
    "    model.fit(X_train, y_train, epochs=30, batch_size=16, validation_split=0.2)\n",
    "\n",
    "    # Evaluate\n",
    "    loss, accuracy = model.evaluate(X_test, y_test, verbose=0)\n",
    "    print(f\"Accuracy on test set: {accuracy:.4f}\")\n",
    "\n",
    "    # Predict\n",
    "    y_pred_probs = model.predict(X_test)\n",
    "    y_pred = (y_pred_probs > 0.5).astype(int)\n",
    "\n",
    "    # Report\n",
    "    print(\"\\nClassification Report:\")\n",
    "    print(classification_report(y_test, y_pred))\n",
    "\n",
    "    print(\"Confusion Matrix:\")\n",
    "    print(confusion_matrix(y_test, y_pred))\n",
    "\n",
    "    return model\n"
   ]
  },
  {
   "cell_type": "code",
   "execution_count": 2,
   "id": "261ebf06",
   "metadata": {},
   "outputs": [],
   "source": [
    "# Clean and save multiple datasets\n",
    "df1=pd.read_csv(\"../cleanDatasets/winequality-red_cleaned.csv\", sep=\",\", quotechar='\"')\n",
    "df2=pd.read_csv(\"../cleanDatasets/winequality-white_cleaned.csv\", sep=\",\", quotechar='\"')"
   ]
  },
  {
   "cell_type": "code",
   "execution_count": 4,
   "id": "e13cea73",
   "metadata": {},
   "outputs": [
    {
     "name": "stdout",
     "output_type": "stream",
     "text": [
      "Epoch 1/30\n"
     ]
    },
    {
     "name": "stderr",
     "output_type": "stream",
     "text": [
      "/Library/Frameworks/Python.framework/Versions/3.12/lib/python3.12/site-packages/keras/src/layers/core/dense.py:87: UserWarning: Do not pass an `input_shape`/`input_dim` argument to a layer. When using Sequential models, prefer using an `Input(shape)` object as the first layer in the model instead.\n",
      "  super().__init__(activity_regularizer=activity_regularizer, **kwargs)\n"
     ]
    },
    {
     "name": "stdout",
     "output_type": "stream",
     "text": [
      "\u001b[1m159/159\u001b[0m \u001b[32m━━━━━━━━━━━━━━━━━━━━\u001b[0m\u001b[37m\u001b[0m \u001b[1m1s\u001b[0m 1ms/step - accuracy: 0.7951 - loss: 0.4775 - val_accuracy: 0.8233 - val_loss: 0.3678\n",
      "Epoch 2/30\n",
      "\u001b[1m159/159\u001b[0m \u001b[32m━━━━━━━━━━━━━━━━━━━━\u001b[0m\u001b[37m\u001b[0m \u001b[1m0s\u001b[0m 731us/step - accuracy: 0.8178 - loss: 0.3973 - val_accuracy: 0.8265 - val_loss: 0.3595\n",
      "Epoch 3/30\n",
      "\u001b[1m159/159\u001b[0m \u001b[32m━━━━━━━━━━━━━━━━━━━━\u001b[0m\u001b[37m\u001b[0m \u001b[1m0s\u001b[0m 761us/step - accuracy: 0.8374 - loss: 0.3661 - val_accuracy: 0.8344 - val_loss: 0.3531\n",
      "Epoch 4/30\n",
      "\u001b[1m159/159\u001b[0m \u001b[32m━━━━━━━━━━━━━━━━━━━━\u001b[0m\u001b[37m\u001b[0m \u001b[1m0s\u001b[0m 724us/step - accuracy: 0.8295 - loss: 0.3826 - val_accuracy: 0.8360 - val_loss: 0.3504\n",
      "Epoch 5/30\n",
      "\u001b[1m159/159\u001b[0m \u001b[32m━━━━━━━━━━━━━━━━━━━━\u001b[0m\u001b[37m\u001b[0m \u001b[1m0s\u001b[0m 709us/step - accuracy: 0.8407 - loss: 0.3519 - val_accuracy: 0.8375 - val_loss: 0.3520\n",
      "Epoch 6/30\n",
      "\u001b[1m159/159\u001b[0m \u001b[32m━━━━━━━━━━━━━━━━━━━━\u001b[0m\u001b[37m\u001b[0m \u001b[1m0s\u001b[0m 719us/step - accuracy: 0.8332 - loss: 0.3760 - val_accuracy: 0.8360 - val_loss: 0.3506\n",
      "Epoch 7/30\n",
      "\u001b[1m159/159\u001b[0m \u001b[32m━━━━━━━━━━━━━━━━━━━━\u001b[0m\u001b[37m\u001b[0m \u001b[1m0s\u001b[0m 723us/step - accuracy: 0.8365 - loss: 0.3515 - val_accuracy: 0.8391 - val_loss: 0.3452\n",
      "Epoch 8/30\n",
      "\u001b[1m159/159\u001b[0m \u001b[32m━━━━━━━━━━━━━━━━━━━━\u001b[0m\u001b[37m\u001b[0m \u001b[1m0s\u001b[0m 726us/step - accuracy: 0.8305 - loss: 0.3548 - val_accuracy: 0.8407 - val_loss: 0.3458\n",
      "Epoch 9/30\n",
      "\u001b[1m159/159\u001b[0m \u001b[32m━━━━━━━━━━━━━━━━━━━━\u001b[0m\u001b[37m\u001b[0m \u001b[1m0s\u001b[0m 818us/step - accuracy: 0.8384 - loss: 0.3597 - val_accuracy: 0.8438 - val_loss: 0.3500\n",
      "Epoch 10/30\n",
      "\u001b[1m159/159\u001b[0m \u001b[32m━━━━━━━━━━━━━━━━━━━━\u001b[0m\u001b[37m\u001b[0m \u001b[1m0s\u001b[0m 737us/step - accuracy: 0.8481 - loss: 0.3503 - val_accuracy: 0.8375 - val_loss: 0.3429\n",
      "Epoch 11/30\n",
      "\u001b[1m159/159\u001b[0m \u001b[32m━━━━━━━━━━━━━━━━━━━━\u001b[0m\u001b[37m\u001b[0m \u001b[1m0s\u001b[0m 779us/step - accuracy: 0.8249 - loss: 0.3709 - val_accuracy: 0.8438 - val_loss: 0.3438\n",
      "Epoch 12/30\n",
      "\u001b[1m159/159\u001b[0m \u001b[32m━━━━━━━━━━━━━━━━━━━━\u001b[0m\u001b[37m\u001b[0m \u001b[1m0s\u001b[0m 780us/step - accuracy: 0.8546 - loss: 0.3292 - val_accuracy: 0.8375 - val_loss: 0.3488\n",
      "Epoch 13/30\n",
      "\u001b[1m159/159\u001b[0m \u001b[32m━━━━━━━━━━━━━━━━━━━━\u001b[0m\u001b[37m\u001b[0m \u001b[1m0s\u001b[0m 952us/step - accuracy: 0.8327 - loss: 0.3495 - val_accuracy: 0.8249 - val_loss: 0.3473\n",
      "Epoch 14/30\n",
      "\u001b[1m159/159\u001b[0m \u001b[32m━━━━━━━━━━━━━━━━━━━━\u001b[0m\u001b[37m\u001b[0m \u001b[1m0s\u001b[0m 966us/step - accuracy: 0.8429 - loss: 0.3365 - val_accuracy: 0.8312 - val_loss: 0.3505\n",
      "Epoch 15/30\n",
      "\u001b[1m159/159\u001b[0m \u001b[32m━━━━━━━━━━━━━━━━━━━━\u001b[0m\u001b[37m\u001b[0m \u001b[1m0s\u001b[0m 960us/step - accuracy: 0.8425 - loss: 0.3310 - val_accuracy: 0.8344 - val_loss: 0.3446\n",
      "Epoch 16/30\n",
      "\u001b[1m159/159\u001b[0m \u001b[32m━━━━━━━━━━━━━━━━━━━━\u001b[0m\u001b[37m\u001b[0m \u001b[1m0s\u001b[0m 848us/step - accuracy: 0.8463 - loss: 0.3421 - val_accuracy: 0.8391 - val_loss: 0.3456\n",
      "Epoch 17/30\n",
      "\u001b[1m159/159\u001b[0m \u001b[32m━━━━━━━━━━━━━━━━━━━━\u001b[0m\u001b[37m\u001b[0m \u001b[1m0s\u001b[0m 736us/step - accuracy: 0.8430 - loss: 0.3386 - val_accuracy: 0.8328 - val_loss: 0.3473\n",
      "Epoch 18/30\n",
      "\u001b[1m159/159\u001b[0m \u001b[32m━━━━━━━━━━━━━━━━━━━━\u001b[0m\u001b[37m\u001b[0m \u001b[1m0s\u001b[0m 742us/step - accuracy: 0.8442 - loss: 0.3391 - val_accuracy: 0.8391 - val_loss: 0.3477\n",
      "Epoch 19/30\n",
      "\u001b[1m159/159\u001b[0m \u001b[32m━━━━━━━━━━━━━━━━━━━━\u001b[0m\u001b[37m\u001b[0m \u001b[1m0s\u001b[0m 823us/step - accuracy: 0.8490 - loss: 0.3347 - val_accuracy: 0.8312 - val_loss: 0.3547\n",
      "Epoch 20/30\n",
      "\u001b[1m159/159\u001b[0m \u001b[32m━━━━━━━━━━━━━━━━━━━━\u001b[0m\u001b[37m\u001b[0m \u001b[1m0s\u001b[0m 874us/step - accuracy: 0.8416 - loss: 0.3230 - val_accuracy: 0.8312 - val_loss: 0.3526\n",
      "Epoch 21/30\n",
      "\u001b[1m159/159\u001b[0m \u001b[32m━━━━━━━━━━━━━━━━━━━━\u001b[0m\u001b[37m\u001b[0m \u001b[1m0s\u001b[0m 821us/step - accuracy: 0.8571 - loss: 0.3121 - val_accuracy: 0.8328 - val_loss: 0.3537\n",
      "Epoch 22/30\n",
      "\u001b[1m159/159\u001b[0m \u001b[32m━━━━━━━━━━━━━━━━━━━━\u001b[0m\u001b[37m\u001b[0m \u001b[1m0s\u001b[0m 777us/step - accuracy: 0.8584 - loss: 0.3098 - val_accuracy: 0.8328 - val_loss: 0.3522\n",
      "Epoch 23/30\n",
      "\u001b[1m159/159\u001b[0m \u001b[32m━━━━━━━━━━━━━━━━━━━━\u001b[0m\u001b[37m\u001b[0m \u001b[1m0s\u001b[0m 744us/step - accuracy: 0.8532 - loss: 0.3151 - val_accuracy: 0.8297 - val_loss: 0.3484\n",
      "Epoch 24/30\n",
      "\u001b[1m159/159\u001b[0m \u001b[32m━━━━━━━━━━━━━━━━━━━━\u001b[0m\u001b[37m\u001b[0m \u001b[1m0s\u001b[0m 756us/step - accuracy: 0.8489 - loss: 0.3128 - val_accuracy: 0.8391 - val_loss: 0.3525\n",
      "Epoch 25/30\n",
      "\u001b[1m159/159\u001b[0m \u001b[32m━━━━━━━━━━━━━━━━━━━━\u001b[0m\u001b[37m\u001b[0m \u001b[1m0s\u001b[0m 1ms/step - accuracy: 0.8532 - loss: 0.3139 - val_accuracy: 0.8328 - val_loss: 0.3527\n",
      "Epoch 26/30\n",
      "\u001b[1m159/159\u001b[0m \u001b[32m━━━━━━━━━━━━━━━━━━━━\u001b[0m\u001b[37m\u001b[0m \u001b[1m0s\u001b[0m 842us/step - accuracy: 0.8454 - loss: 0.3213 - val_accuracy: 0.8265 - val_loss: 0.3585\n",
      "Epoch 27/30\n",
      "\u001b[1m159/159\u001b[0m \u001b[32m━━━━━━━━━━━━━━━━━━━━\u001b[0m\u001b[37m\u001b[0m \u001b[1m0s\u001b[0m 810us/step - accuracy: 0.8642 - loss: 0.2958 - val_accuracy: 0.8344 - val_loss: 0.3476\n",
      "Epoch 28/30\n",
      "\u001b[1m159/159\u001b[0m \u001b[32m━━━━━━━━━━━━━━━━━━━━\u001b[0m\u001b[37m\u001b[0m \u001b[1m0s\u001b[0m 786us/step - accuracy: 0.8573 - loss: 0.3040 - val_accuracy: 0.8281 - val_loss: 0.3521\n",
      "Epoch 29/30\n",
      "\u001b[1m159/159\u001b[0m \u001b[32m━━━━━━━━━━━━━━━━━━━━\u001b[0m\u001b[37m\u001b[0m \u001b[1m0s\u001b[0m 798us/step - accuracy: 0.8524 - loss: 0.3171 - val_accuracy: 0.8328 - val_loss: 0.3524\n",
      "Epoch 30/30\n",
      "\u001b[1m159/159\u001b[0m \u001b[32m━━━━━━━━━━━━━━━━━━━━\u001b[0m\u001b[37m\u001b[0m \u001b[1m0s\u001b[0m 720us/step - accuracy: 0.8416 - loss: 0.3159 - val_accuracy: 0.8312 - val_loss: 0.3477\n",
      "Accuracy on test set: 0.8146\n",
      "\u001b[1m25/25\u001b[0m \u001b[32m━━━━━━━━━━━━━━━━━━━━\u001b[0m\u001b[37m\u001b[0m \u001b[1m0s\u001b[0m 1ms/step \n",
      "\n",
      "Classification Report:\n",
      "              precision    recall  f1-score   support\n",
      "\n",
      "           0       0.84      0.95      0.89       618\n",
      "           1       0.65      0.35      0.45       175\n",
      "\n",
      "    accuracy                           0.81       793\n",
      "   macro avg       0.74      0.65      0.67       793\n",
      "weighted avg       0.80      0.81      0.79       793\n",
      "\n",
      "Confusion Matrix:\n",
      "[[585  33]\n",
      " [114  61]]\n"
     ]
    },
    {
     "data": {
      "text/plain": [
       "<Sequential name=sequential_1, built=True>"
      ]
     },
     "execution_count": 4,
     "metadata": {},
     "output_type": "execute_result"
    }
   ],
   "source": [
    "classify_wine_quality(df2)\n",
    "#model_wine(df2)"
   ]
  },
  {
   "cell_type": "code",
   "execution_count": 69,
   "id": "d20357ed",
   "metadata": {},
   "outputs": [],
   "source": [
    "wine_model = load_model('wine_quality_model.keras')\n",
    "scaler = joblib.load('scaler.pkl')"
   ]
  },
  {
   "cell_type": "code",
   "execution_count": 70,
   "id": "4f3d62f6",
   "metadata": {},
   "outputs": [],
   "source": [
    "sample = df2.drop('quality', axis=1).sample(1, random_state=42)"
   ]
  },
  {
   "cell_type": "code",
   "execution_count": 71,
   "id": "2f4ff51e",
   "metadata": {},
   "outputs": [
    {
     "name": "stdout",
     "output_type": "stream",
     "text": [
      "\u001b[1m1/1\u001b[0m \u001b[32m━━━━━━━━━━━━━━━━━━━━\u001b[0m\u001b[37m\u001b[0m \u001b[1m0s\u001b[0m 33ms/step\n",
      "\n",
      "Input data:\n",
      "     fixed acidity  volatile acidity  citric acid  residual sugar  chlorides  \\\n",
      "149            7.2              0.32         0.47             5.1      0.044   \n",
      "\n",
      "     free sulfur dioxide  total sulfur dioxide  density    pH  sulphates  \\\n",
      "149                 19.0                  65.0    0.991  3.03       0.41   \n",
      "\n",
      "     alcohol  \n",
      "149     12.6  \n",
      "\n",
      "Predicted wine quality (1–10 scale): 6.87\n"
     ]
    }
   ],
   "source": [
    "sample_scaled = scaler.transform(sample)\n",
    "predicted_quality = wine_model.predict(sample_scaled)\n",
    "\n",
    "print(f\"\\nInput data:\\n{sample}\")\n",
    "print(f\"\\nPredicted wine quality (1–10 scale): {predicted_quality[0][0]:.2f}\")"
   ]
  }
 ],
 "metadata": {
  "kernelspec": {
   "display_name": "Python 3",
   "language": "python",
   "name": "python3"
  },
  "language_info": {
   "codemirror_mode": {
    "name": "ipython",
    "version": 3
   },
   "file_extension": ".py",
   "mimetype": "text/x-python",
   "name": "python",
   "nbconvert_exporter": "python",
   "pygments_lexer": "ipython3",
   "version": "3.12.0"
  }
 },
 "nbformat": 4,
 "nbformat_minor": 5
}
