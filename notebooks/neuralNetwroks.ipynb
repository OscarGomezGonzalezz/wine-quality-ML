{
 "cells": [
  {
   "cell_type": "code",
   "execution_count": 1,
   "id": "c6fd5366",
   "metadata": {},
   "outputs": [],
   "source": [
    "from tensorflow.keras.models import Sequential\n",
    "from tensorflow.keras.layers import Dense\n",
    "from sklearn.model_selection import train_test_split\n",
    "from sklearn.preprocessing import StandardScaler\n",
    "from sklearn.metrics import classification_report, confusion_matrix, accuracy_score\n",
    "import pandas as pd\n",
    "import numpy as np\n",
    "\n",
    "def classify_wine_quality(df):\n",
    "    # Convert quality to binary class: 1 = good (>=7), 0 = bad (<7)\n",
    "    df['quality'] = df['quality'].apply(lambda q: 1 if q >= 7 else 0)\n",
    "\n",
    "    X = df.drop('quality', axis=1)\n",
    "    y = df['quality']\n",
    "\n",
    "    # Split\n",
    "    X_train, X_test, y_train, y_test = train_test_split(X, y, test_size=0.2, random_state=42)\n",
    "\n",
    "    # Normalize\n",
    "    scaler = StandardScaler()\n",
    "    X_train = scaler.fit_transform(X_train)\n",
    "    X_test = scaler.transform(X_test)\n",
    "\n",
    "    # Model\n",
    "    model = Sequential([\n",
    "        Dense(64, activation='relu', input_shape=(X_train.shape[1],)),\n",
    "        Dense(32, activation='relu'),\n",
    "        Dense(1, activation='sigmoid')  # sigmoid for binary output\n",
    "    ])\n",
    "\n",
    "    model.compile(\n",
    "        optimizer='adam',\n",
    "        loss='binary_crossentropy',\n",
    "        metrics=['accuracy']\n",
    "    )\n",
    "\n",
    "    # Train\n",
    "    model.fit(X_train, y_train, epochs=30, batch_size=16, validation_split=0.2, verbose=0)\n",
    "\n",
    "    # Evaluate\n",
    "    loss, accuracy = model.evaluate(X_test, y_test, verbose=0)\n",
    "    print(f\"\\n✅ Accuracy on test set (from model.evaluate): {accuracy:.4f}\")\n",
    "\n",
    "    # Predict\n",
    "    y_pred_probs = model.predict(X_test)\n",
    "    y_pred = (y_pred_probs > 0.5).astype(int)\n",
    "\n",
    "    # Accuracy manually\n",
    "    manual_accuracy = accuracy_score(y_test, y_pred)\n",
    "    print(f\"✅ Accuracy (manual): {manual_accuracy:.4f}\")\n",
    "    print(\"\\nClassification Report:\\n\", classification_report(y_test, y_pred))\n",
    "    print(\"Confusion Matrix:\\n\", confusion_matrix(y_test, y_pred))\n",
    "\n",
    "    return {\n",
    "        \"model\": model,\n",
    "        \"accuracy\": manual_accuracy,\n",
    "        \"classification_report\": classification_report(y_test, y_pred, output_dict=True),\n",
    "        \"confusion_matrix\": confusion_matrix(y_test, y_pred)\n",
    "    }\n"
   ]
  },
  {
   "cell_type": "code",
   "execution_count": 3,
   "id": "261ebf06",
   "metadata": {},
   "outputs": [],
   "source": [
    "# Clean and save multiple datasets\n",
    "df1=pd.read_csv(\"../cleanDatasets/winequality-red_cleaned.csv\", sep=\",\", quotechar='\"')\n",
    "df2=pd.read_csv(\"../cleanDatasets/winequality-white_cleaned.csv\", sep=\",\", quotechar='\"')"
   ]
  },
  {
   "cell_type": "code",
   "execution_count": 4,
   "id": "e13cea73",
   "metadata": {},
   "outputs": [
    {
     "name": "stderr",
     "output_type": "stream",
     "text": [
      "C:\\Users\\Javi\\AppData\\Roaming\\Python\\Python312\\site-packages\\keras\\src\\layers\\core\\dense.py:87: UserWarning: Do not pass an `input_shape`/`input_dim` argument to a layer. When using Sequential models, prefer using an `Input(shape)` object as the first layer in the model instead.\n",
      "  super().__init__(activity_regularizer=activity_regularizer, **kwargs)\n"
     ]
    },
    {
     "name": "stdout",
     "output_type": "stream",
     "text": [
      "\n",
      "✅ Accuracy on test set (from model.evaluate): 0.8058\n",
      "\u001b[1m25/25\u001b[0m \u001b[32m━━━━━━━━━━━━━━━━━━━━\u001b[0m\u001b[37m\u001b[0m \u001b[1m0s\u001b[0m 9ms/step\n",
      "✅ Accuracy (manual): 0.8058\n",
      "\n",
      "Classification Report:\n",
      "               precision    recall  f1-score   support\n",
      "\n",
      "           0       0.83      0.94      0.88       618\n",
      "           1       0.61      0.33      0.43       175\n",
      "\n",
      "    accuracy                           0.81       793\n",
      "   macro avg       0.72      0.63      0.65       793\n",
      "weighted avg       0.78      0.81      0.78       793\n",
      "\n",
      "Confusion Matrix:\n",
      " [[582  36]\n",
      " [118  57]]\n"
     ]
    },
    {
     "data": {
      "text/plain": [
       "{'model': <Sequential name=sequential, built=True>,\n",
       " 'accuracy': 0.8058007566204287,\n",
       " 'classification_report': {'0': {'precision': 0.8314285714285714,\n",
       "   'recall': 0.941747572815534,\n",
       "   'f1-score': 0.8831562974203339,\n",
       "   'support': 618.0},\n",
       "  '1': {'precision': 0.6129032258064516,\n",
       "   'recall': 0.32571428571428573,\n",
       "   'f1-score': 0.4253731343283582,\n",
       "   'support': 175.0},\n",
       "  'accuracy': 0.8058007566204287,\n",
       "  'macro avg': {'precision': 0.7221658986175115,\n",
       "   'recall': 0.6337309292649098,\n",
       "   'f1-score': 0.654264715874346,\n",
       "   'support': 793.0},\n",
       "  'weighted avg': {'precision': 0.7832041887250771,\n",
       "   'recall': 0.8058007566204287,\n",
       "   'f1-score': 0.7821322702562787,\n",
       "   'support': 793.0}},\n",
       " 'confusion_matrix': array([[582,  36],\n",
       "        [118,  57]], dtype=int64)}"
      ]
     },
     "execution_count": 4,
     "metadata": {},
     "output_type": "execute_result"
    }
   ],
   "source": [
    "classify_wine_quality(df2)\n",
    "#model_wine(df2)"
   ]
  },
  {
   "cell_type": "code",
   "execution_count": 69,
   "id": "d20357ed",
   "metadata": {},
   "outputs": [],
   "source": [
    "wine_model = load_model('wine_quality_model.keras')\n",
    "scaler = joblib.load('scaler.pkl')"
   ]
  },
  {
   "cell_type": "code",
   "execution_count": 70,
   "id": "4f3d62f6",
   "metadata": {},
   "outputs": [],
   "source": [
    "sample = df2.drop('quality', axis=1).sample(1, random_state=42)"
   ]
  },
  {
   "cell_type": "code",
   "execution_count": 71,
   "id": "2f4ff51e",
   "metadata": {},
   "outputs": [
    {
     "name": "stdout",
     "output_type": "stream",
     "text": [
      "\u001b[1m1/1\u001b[0m \u001b[32m━━━━━━━━━━━━━━━━━━━━\u001b[0m\u001b[37m\u001b[0m \u001b[1m0s\u001b[0m 33ms/step\n",
      "\n",
      "Input data:\n",
      "     fixed acidity  volatile acidity  citric acid  residual sugar  chlorides  \\\n",
      "149            7.2              0.32         0.47             5.1      0.044   \n",
      "\n",
      "     free sulfur dioxide  total sulfur dioxide  density    pH  sulphates  \\\n",
      "149                 19.0                  65.0    0.991  3.03       0.41   \n",
      "\n",
      "     alcohol  \n",
      "149     12.6  \n",
      "\n",
      "Predicted wine quality (1–10 scale): 6.87\n"
     ]
    }
   ],
   "source": [
    "sample_scaled = scaler.transform(sample)\n",
    "predicted_quality = wine_model.predict(sample_scaled)\n",
    "\n",
    "print(f\"\\nInput data:\\n{sample}\")\n",
    "print(f\"\\nPredicted wine quality (1–10 scale): {predicted_quality[0][0]:.2f}\")"
   ]
  }
 ],
 "metadata": {
  "kernelspec": {
   "display_name": "Python 3",
   "language": "python",
   "name": "python3"
  },
  "language_info": {
   "codemirror_mode": {
    "name": "ipython",
    "version": 3
   },
   "file_extension": ".py",
   "mimetype": "text/x-python",
   "name": "python",
   "nbconvert_exporter": "python",
   "pygments_lexer": "ipython3",
   "version": "3.12.0"
  }
 },
 "nbformat": 4,
 "nbformat_minor": 5
}
