{
 "cells": [
  {
   "cell_type": "code",
   "execution_count": 10,
   "id": "9b015db7",
   "metadata": {},
   "outputs": [],
   "source": [
    "import pandas as pd\n",
    "import seaborn as sns\n",
    "import matplotlib.pyplot as plt\n",
    "from sklearn.model_selection import train_test_split\n",
    "from sklearn.preprocessing import StandardScaler\n",
    "from sklearn.ensemble import RandomForestClassifier\n",
    "from sklearn.metrics import classification_report, confusion_matrix, accuracy_score\n",
    "import numpy as np\n",
    "\n",
    "def random_forest_model(csv_file, target_column='quality', scale=False):\n",
    "    # Load the CSV\n",
    "    data = pd.read_csv(csv_file, sep=',')\n",
    "\n",
    "    # Convert quality to binary class: 1 if quality >= 7, else 0\n",
    "    y = data[target_column].apply(lambda value: 1 if value >= 7 else 0)\n",
    "\n",
    "    # Separate features\n",
    "    X = data.drop(target_column, axis=1)\n",
    "    column_names = list(X.columns)\n",
    "\n",
    "    if scale:\n",
    "        scaler = StandardScaler()\n",
    "        X = scaler.fit_transform(X)\n",
    "\n",
    "    # Train/test split\n",
    "    X_train, X_test, y_train, y_test = train_test_split(X, y, test_size=0.2, random_state=42)\n",
    "\n",
    "    # Train Random Forest\n",
    "    model = RandomForestClassifier(n_estimators=200, random_state=42)\n",
    "    model.fit(X_train, y_train)\n",
    "    y_pred = model.predict(X_test)\n",
    "\n",
    "    # Evaluation\n",
    "    accuracy = accuracy_score(y_test, y_pred)\n",
    "    print(f\"\\n✅ Accuracy: {accuracy:.4f}\\n\")\n",
    "\n",
    "\n",
    "\n",
    "    return {\n",
    "        \"accuracy\": accuracy\n",
    "    }\n"
   ]
  },
  {
   "cell_type": "code",
   "execution_count": 11,
   "id": "f050bd51",
   "metadata": {},
   "outputs": [
    {
     "name": "stdout",
     "output_type": "stream",
     "text": [
      "\n",
      "✅ Accuracy: 0.9044\n",
      "\n",
      "\n",
      "✅ Accuracy: 0.8096\n",
      "\n"
     ]
    }
   ],
   "source": [
    "metrics = random_forest_model(\"../cleanDatasets/winequality-red_cleaned.csv\", target_column=\"quality\", scale=True)\n",
    "\n",
    "metrics = random_forest_model(\"../cleanDatasets/winequality-white_cleaned.csv\", target_column=\"quality\", scale=True)"
   ]
  }
 ],
 "metadata": {
  "kernelspec": {
   "display_name": "Python 3",
   "language": "python",
   "name": "python3"
  },
  "language_info": {
   "codemirror_mode": {
    "name": "ipython",
    "version": 3
   },
   "file_extension": ".py",
   "mimetype": "text/x-python",
   "name": "python",
   "nbconvert_exporter": "python",
   "pygments_lexer": "ipython3",
   "version": "3.13.2"
  }
 },
 "nbformat": 4,
 "nbformat_minor": 5
}
